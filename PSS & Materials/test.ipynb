from datasets import load_dataset


dataset = load_dataset("wikipedia", language="hy", date="20220120", beam_runner=...)
