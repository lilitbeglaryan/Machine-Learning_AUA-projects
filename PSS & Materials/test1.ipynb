{
 "cells": [
  {
   "cell_type": "code",
   "execution_count": 10,
   "id": "811e20b5",
   "metadata": {},
   "outputs": [],
   "source": [
    "import pandas as pd\n",
    "import numpy as np"
   ]
  },
  {
   "cell_type": "code",
   "execution_count": 22,
   "id": "8df75f12",
   "metadata": {},
   "outputs": [
    {
     "name": "stdout",
     "output_type": "stream",
     "text": [
      "Requirement already satisfied: nltk in c:\\users\\blilit\\anaconda3\\lib\\site-packages (3.7)\n",
      "Requirement already satisfied: click in c:\\users\\blilit\\anaconda3\\lib\\site-packages (from nltk) (8.0.4)\n",
      "Requirement already satisfied: joblib in c:\\users\\blilit\\anaconda3\\lib\\site-packages (from nltk) (1.1.1)\n",
      "Requirement already satisfied: tqdm in c:\\users\\blilit\\anaconda3\\lib\\site-packages (from nltk) (4.64.1)\n",
      "Requirement already satisfied: regex>=2021.8.3 in c:\\users\\blilit\\anaconda3\\lib\\site-packages (from nltk) (2022.7.9)\n",
      "Requirement already satisfied: colorama in c:\\users\\blilit\\anaconda3\\lib\\site-packages (from click->nltk) (0.4.6)\n",
      "Requirement already satisfied: unidecode in c:\\users\\blilit\\anaconda3\\lib\\site-packages (1.2.0)\n",
      "Collecting pycontractions\n",
      "  Downloading pycontractions-2.0.1-py3-none-any.whl (9.6 kB)\n",
      "Requirement already satisfied: gensim>=2.0 in c:\\users\\blilit\\anaconda3\\lib\\site-packages (from pycontractions) (4.1.2)\n",
      "Collecting pyemd>=0.4.4\n",
      "  Downloading pyemd-1.0.0-cp39-cp39-win_amd64.whl (148 kB)\n",
      "     ------------------------------------ 148.7/148.7 kB 305.5 kB/s eta 0:00:00\n",
      "Collecting language-check>=1.0\n",
      "  Downloading language-check-1.1.tar.gz (33 kB)\n",
      "  Preparing metadata (setup.py): started\n",
      "  Preparing metadata (setup.py): finished with status 'done'\n",
      "Requirement already satisfied: scipy>=0.18.1 in c:\\users\\blilit\\anaconda3\\lib\\site-packages (from gensim>=2.0->pycontractions) (1.10.1)\n",
      "Requirement already satisfied: numpy>=1.17.0 in c:\\users\\blilit\\anaconda3\\lib\\site-packages (from gensim>=2.0->pycontractions) (1.23.5)\n",
      "Requirement already satisfied: smart-open>=1.8.1 in c:\\users\\blilit\\anaconda3\\lib\\site-packages (from gensim>=2.0->pycontractions) (5.2.1)\n",
      "Building wheels for collected packages: language-check\n",
      "  Building wheel for language-check (setup.py): started\n",
      "  Building wheel for language-check (setup.py): finished with status 'error'\n",
      "  Running setup.py clean for language-check\n",
      "Failed to build language-check\n",
      "Installing collected packages: language-check, pyemd, pycontractions\n",
      "  Running setup.py install for language-check: started\n",
      "  Running setup.py install for language-check: finished with status 'error'\n"
     ]
    },
    {
     "name": "stderr",
     "output_type": "stream",
     "text": [
      "  error: subprocess-exited-with-error\n",
      "  \n",
      "  python setup.py bdist_wheel did not run successfully.\n",
      "  exit code: 1\n",
      "  \n",
      "  [4 lines of output]\n",
      "  Could not parse Java version from \"\"\"openjdk version \"16.0.2\" 2021-07-20\n",
      "  OpenJDK Runtime Environment (build 16.0.2+7-67)\n",
      "  OpenJDK 64-Bit Server VM (build 16.0.2+7-67, mixed mode, sharing)\n",
      "  \"\"\".\n",
      "  [end of output]\n",
      "  \n",
      "  note: This error originates from a subprocess, and is likely not a problem with pip.\n",
      "  ERROR: Failed building wheel for language-check\n",
      "  error: subprocess-exited-with-error\n",
      "  \n",
      "  Running setup.py install for language-check did not run successfully.\n",
      "  exit code: 1\n",
      "  \n",
      "  [4 lines of output]\n",
      "  Could not parse Java version from \"\"\"openjdk version \"16.0.2\" 2021-07-20\n",
      "  OpenJDK Runtime Environment (build 16.0.2+7-67)\n",
      "  OpenJDK 64-Bit Server VM (build 16.0.2+7-67, mixed mode, sharing)\n",
      "  \"\"\".\n",
      "  [end of output]\n",
      "  \n",
      "  note: This error originates from a subprocess, and is likely not a problem with pip.\n",
      "error: legacy-install-failure\n",
      "\n",
      "Encountered error while trying to install package.\n",
      "\n",
      "language-check\n",
      "\n",
      "note: This is an issue with the package mentioned above, not pip.\n",
      "hint: See above for output from the failure.\n"
     ]
    },
    {
     "name": "stdout",
     "output_type": "stream",
     "text": [
      "Collecting word2number\n",
      "  Downloading word2number-1.1.zip (9.7 kB)\n",
      "  Preparing metadata (setup.py): started\n",
      "  Preparing metadata (setup.py): finished with status 'done'\n",
      "Building wheels for collected packages: word2number\n",
      "  Building wheel for word2number (setup.py): started\n",
      "  Building wheel for word2number (setup.py): finished with status 'done'\n",
      "  Created wheel for word2number: filename=word2number-1.1-py3-none-any.whl size=5567 sha256=3feb1f71b3c22cb90c65f1046a6ddd8dbbc53902a275eb5df500a198c485b3d4\n",
      "  Stored in directory: c:\\users\\blilit\\appdata\\local\\pip\\cache\\wheels\\21\\1d\\b2\\768b65901d249c6eb2a8d9c30392506555a4e94055ba4e0aa0\n",
      "Successfully built word2number\n",
      "Installing collected packages: word2number\n",
      "Successfully installed word2number-1.1\n"
     ]
    }
   ],
   "source": [
    "!pip install nltk\n",
    "!pip install unidecode\n",
    "!pip install pycontractions\n",
    "!pip install word2number"
   ]
  },
  {
   "cell_type": "code",
   "execution_count": 23,
   "id": "34be18d4",
   "metadata": {},
   "outputs": [
    {
     "ename": "ModuleNotFoundError",
     "evalue": "No module named 'pycontractions'",
     "output_type": "error",
     "traceback": [
      "\u001b[1;31m---------------------------------------------------------------------------\u001b[0m",
      "\u001b[1;31mModuleNotFoundError\u001b[0m                       Traceback (most recent call last)",
      "\u001b[1;32m~\\AppData\\Local\\Temp\\ipykernel_26528\\123405064.py\u001b[0m in \u001b[0;36m<module>\u001b[1;34m\u001b[0m\n\u001b[0;32m      8\u001b[0m \u001b[1;32mfrom\u001b[0m \u001b[0mnltk\u001b[0m\u001b[1;33m.\u001b[0m\u001b[0mcorpus\u001b[0m \u001b[1;32mimport\u001b[0m \u001b[0mstopwords\u001b[0m\u001b[1;33m\u001b[0m\u001b[1;33m\u001b[0m\u001b[0m\n\u001b[0;32m      9\u001b[0m \u001b[1;32mimport\u001b[0m \u001b[0mgensim\u001b[0m\u001b[1;33m.\u001b[0m\u001b[0mdownloader\u001b[0m \u001b[1;32mas\u001b[0m \u001b[0mapi\u001b[0m\u001b[1;33m\u001b[0m\u001b[1;33m\u001b[0m\u001b[0m\n\u001b[1;32m---> 10\u001b[1;33m \u001b[1;32mfrom\u001b[0m \u001b[0mpycontractions\u001b[0m \u001b[1;32mimport\u001b[0m \u001b[0mContractions\u001b[0m\u001b[1;33m\u001b[0m\u001b[1;33m\u001b[0m\u001b[0m\n\u001b[0m\u001b[0;32m     11\u001b[0m \u001b[1;32mfrom\u001b[0m \u001b[0mword2number\u001b[0m \u001b[1;32mimport\u001b[0m \u001b[0mw2n\u001b[0m\u001b[1;33m\u001b[0m\u001b[1;33m\u001b[0m\u001b[0m\n",
      "\u001b[1;31mModuleNotFoundError\u001b[0m: No module named 'pycontractions'"
     ]
    }
   ],
   "source": [
    "import re\n",
    "import string\n",
    "import unidecode\n",
    "from nltk.tokenize import sent_tokenize\n",
    "from nltk.tokenize import word_tokenize\n",
    "from nltk.stem import WordNetLemmatizer\n",
    "from nltk.stem.porter import PorterStemmer\n",
    "from nltk.corpus import stopwords\n",
    "import gensim.downloader as api\n",
    "from pycontractions import Contractions\n",
    "from word2number import w2n"
   ]
  },
  {
   "cell_type": "code",
   "execution_count": 11,
   "id": "28719381",
   "metadata": {},
   "outputs": [],
   "source": [
    "data= pd.read_csv(\"wikipedia.csv\")"
   ]
  },
  {
   "cell_type": "code",
   "execution_count": 12,
   "id": "dbf3e475",
   "metadata": {},
   "outputs": [
    {
     "data": {
      "text/html": [
       "<div>\n",
       "<style scoped>\n",
       "    .dataframe tbody tr th:only-of-type {\n",
       "        vertical-align: middle;\n",
       "    }\n",
       "\n",
       "    .dataframe tbody tr th {\n",
       "        vertical-align: top;\n",
       "    }\n",
       "\n",
       "    .dataframe thead th {\n",
       "        text-align: right;\n",
       "    }\n",
       "</style>\n",
       "<table border=\"1\" class=\"dataframe\">\n",
       "  <thead>\n",
       "    <tr style=\"text-align: right;\">\n",
       "      <th></th>\n",
       "      <th>id</th>\n",
       "      <th>url</th>\n",
       "      <th>title</th>\n",
       "      <th>text</th>\n",
       "    </tr>\n",
       "  </thead>\n",
       "  <tbody>\n",
       "    <tr>\n",
       "      <th>0</th>\n",
       "      <td>1</td>\n",
       "      <td>https://simple.wikipedia.org/wiki/April</td>\n",
       "      <td>April</td>\n",
       "      <td>April is the fourth month of the year in the J...</td>\n",
       "    </tr>\n",
       "    <tr>\n",
       "      <th>1</th>\n",
       "      <td>2</td>\n",
       "      <td>https://simple.wikipedia.org/wiki/August</td>\n",
       "      <td>August</td>\n",
       "      <td>August (Aug.) is the eighth month of the year ...</td>\n",
       "    </tr>\n",
       "    <tr>\n",
       "      <th>2</th>\n",
       "      <td>6</td>\n",
       "      <td>https://simple.wikipedia.org/wiki/Art</td>\n",
       "      <td>Art</td>\n",
       "      <td>Art is a creative activity that expresses imag...</td>\n",
       "    </tr>\n",
       "    <tr>\n",
       "      <th>3</th>\n",
       "      <td>8</td>\n",
       "      <td>https://simple.wikipedia.org/wiki/A</td>\n",
       "      <td>A</td>\n",
       "      <td>A or a is the first letter of the English alph...</td>\n",
       "    </tr>\n",
       "    <tr>\n",
       "      <th>4</th>\n",
       "      <td>9</td>\n",
       "      <td>https://simple.wikipedia.org/wiki/Air</td>\n",
       "      <td>Air</td>\n",
       "      <td>Air refers to the Earth's atmosphere. Air is a...</td>\n",
       "    </tr>\n",
       "  </tbody>\n",
       "</table>\n",
       "</div>"
      ],
      "text/plain": [
       "   id                                       url   title  \\\n",
       "0   1   https://simple.wikipedia.org/wiki/April   April   \n",
       "1   2  https://simple.wikipedia.org/wiki/August  August   \n",
       "2   6     https://simple.wikipedia.org/wiki/Art     Art   \n",
       "3   8       https://simple.wikipedia.org/wiki/A       A   \n",
       "4   9     https://simple.wikipedia.org/wiki/Air     Air   \n",
       "\n",
       "                                                text  \n",
       "0  April is the fourth month of the year in the J...  \n",
       "1  August (Aug.) is the eighth month of the year ...  \n",
       "2  Art is a creative activity that expresses imag...  \n",
       "3  A or a is the first letter of the English alph...  \n",
       "4  Air refers to the Earth's atmosphere. Air is a...  "
      ]
     },
     "execution_count": 12,
     "metadata": {},
     "output_type": "execute_result"
    }
   ],
   "source": [
    "data.head()"
   ]
  },
  {
   "cell_type": "code",
   "execution_count": 13,
   "id": "2cb7264f",
   "metadata": {},
   "outputs": [
    {
     "data": {
      "text/plain": [
       "(20000, 4)"
      ]
     },
     "execution_count": 13,
     "metadata": {},
     "output_type": "execute_result"
    }
   ],
   "source": [
    "data.shape"
   ]
  },
  {
   "cell_type": "code",
   "execution_count": 14,
   "id": "bcf43860",
   "metadata": {},
   "outputs": [],
   "source": [
    "text_only = data[\"text\"]"
   ]
  },
  {
   "cell_type": "code",
   "execution_count": 15,
   "id": "47964314",
   "metadata": {},
   "outputs": [
    {
     "data": {
      "text/plain": [
       "pandas.core.series.Series"
      ]
     },
     "execution_count": 15,
     "metadata": {},
     "output_type": "execute_result"
    }
   ],
   "source": [
    "type(text_only)"
   ]
  },
  {
   "cell_type": "code",
   "execution_count": 18,
   "id": "f4f00dab",
   "metadata": {},
   "outputs": [],
   "source": [
    "def normalize(df):\n",
    "    sentences = dict{}\n",
    "    for i in range(df):\n",
    "        sentences[i] = df[i]"
   ]
  },
  {
   "cell_type": "code",
   "execution_count": 20,
   "id": "6738d4d1",
   "metadata": {},
   "outputs": [
    {
     "name": "stdout",
     "output_type": "stream",
     "text": [
      "April is the fourth month of the year in the Julian and Gregorian calendars, and comes between March and May. It is one of four months to have 30 days.\n",
      "\n",
      "April always begins on the same day of week as July, and additionally, January in leap years. April always ends on the same day of the week as December.\n",
      "\n",
      "April's flowers are the Sweet Pea and Daisy. Its birthstone is the diamond. The meaning of the diamond is innocence.\n",
      "\n",
      "The Month \n",
      "\n",
      "April comes between March and May, making it the fourth month of the year. It also comes first in the year out of the four months that have 30 days, as June, September and November are later in the year.\n",
      "\n",
      "April begins on the same day of the week as July every year and on the same day of the week as January in leap years. April ends on the same day of the week as December every year, as each other's last days are exactly 35 weeks (245 days) apart.\n",
      "\n",
      "In common years, April starts on the same day of the week as October of the previous year, and in leap years, May of the previous year. In common years, April finishes on the same day of the week as July of the previous year, and in leap years, February and October of the previous year. In common years immediately after other common years, April starts on the same day of the week as January of the previous year, and in leap years and years immediately after that, April finishes on the same day of the week as January of the previous year.\n",
      "\n",
      "In years immediately before common years, April starts on the same day of the week as September and December of the following year, and in years immediately before leap years, June of the following year. In years immediately before common years, April finishes on the same day of the week as September of the following year, and in years immediately before leap years, March and June of the following year.\n",
      "\n",
      "April is a spring month in the Northern Hemisphere and an autumn/fall month in the Southern Hemisphere. In each hemisphere, it is the seasonal equivalent of October in the other.\n",
      "\n",
      "It is unclear as to where April got its name. A common theory is that it comes from the Latin word \"aperire\", meaning \"to open\", referring to flowers opening in spring. Another theory is that the name could come from Aphrodite, the Greek goddess of love. It was originally the second month in the old Roman Calendar, before the start of the new year was put to January 1.\n",
      "\n",
      "Quite a few festivals are held in this month. In many Southeast Asian cultures, new year is celebrated in this month (including Songkran). In Western Christianity, Easter can be celebrated on a Sunday between March 22 and April 25. In Orthodox Christianity, it can fall between April 4 and May 8. At the end of the month, Central and Northern European cultures celebrate Walpurgis Night on April 30, marking the transition from winter into summer.\n",
      "\n",
      "April in poetry \n",
      "Poets use April to mean the end of winter. For example: April showers bring May flowers.\n",
      "\n",
      "Events in April\n",
      "\n",
      "Fixed Events \n",
      "\n",
      " April 1 - April Fools' Day\n",
      " April 1 - Islamic Republic Day (Iran)\n",
      " April 2 - International Children's Book Day\n",
      " April 2 - Thai Heritage and Conservation Day\n",
      " April 2 - World Autism Awareness Day\n",
      " April 2 - Malvinas Day (Argentina)\n",
      " April 4 - Independence Day (Senegal)\n",
      " April 4 - International Day for Landmine Awareness and Assistance\n",
      " April 4 - Peace Day (Angola)\n",
      " April 5 - End of Tax Year (United Kingdom)\n",
      " April 6 - Tartan Day (Canada and United States)\n",
      " April 6 - Chakri Day (Thailand)\n",
      " April 7 - Day of Maternity and Beauty (Armenia)\n",
      " April 7 - Genocide Memorial Day (Rwanda)\n",
      " April 7 - World Health Day\n",
      " April 7 - Women's Day (Mozambique)\n",
      " April 8 - Buddha's Birthday (Buddhism)\n",
      " April 9 - Martyrs' Day (Tunisia)\n",
      " April 9 - Day of National Unity (Georgia)\n",
      " April 9 - Day of the Finnish language\n",
      " April 12 - Cosmonauts' Day (Russia), marking the day of Yuri Gagarin's space flight\n",
      " April 13 - Songkan (Laos), local New Year celebration\n",
      " April 13 - Cambodian New Year\n",
      " April 13 - Thomas Jefferson's Birthday (United States)\n",
      " April 14 - Southeast Asian New Year festivals, including Songkran\n",
      " April 14 - Georgian language Day\n",
      " April 14 - Youth Day (Angola)\n",
      " April 14 - Ambedkar Tayanti (India)\n",
      " April 14 - Pan-American Day\n",
      " April 15 - Tax Day (United States)\n",
      " April 15 - Kim Il-Sung's Birthday (North Korea)\n",
      " April 15 - Father Damien Day (Hawaii)\n",
      " April 15 - Jackie Robinson Day (Major League Baseball)\n",
      " April 16 - Birthday of Queen Margrethe II of Denmark\n",
      " April 16 - Emancipation Day (Washington, DC)\n",
      " April 16 - World Voice Day\n",
      " April 16 - Selena Day (Texas)\n",
      " April 17 - National Day of Syria\n",
      " April 17 - Flag Day (American Samoa)\n",
      " April 17 - Women's Day (Gabon)\n",
      " April 17 - World Hemophilia Day\n",
      " April 18 - Independence Day (Zimbabwe)\n",
      " April 18 - Invention Day (Japan)\n",
      " April 18 - International Day of Monuments and Sites\n",
      " April 19 - Bicycle Day\n",
      " April 19 - Dutch-American Friendship Day\n",
      " April 19 - Birthday of King Mswati III of Swaziland\n",
      " April 19 - Patriots' Day (Massachusetts, Maine, Wisconsin)\n",
      " April 20 - 4/20 in Cannabis Culture\n",
      " April 21 - John Muir Day (California)\n",
      " April 21 - San Jacinto Day (Texas)\n",
      " April 21 - Kartini Day (Indonesia)\n",
      " April 21 - National Tree Planting Day (Kenya)\n",
      " April 21 - First Day of Ridran (Baha'i faith)\n",
      " April 21 - Grounation Day (Rastafari movement)\n",
      " April 22 - Earth Day\n",
      " April 22 - Discovery Day (Brazil)\n",
      " April 23 - Saint George's Day, celebrating the patron saint of several countries, regions and cities (including England and Catalonia)\n",
      " April 23 - World Book Day\n",
      " April 23 - National Sovereignty and Children's Day (Turkey)\n",
      " April 24 - Democracy Day (Nepal)\n",
      " April 24 - Genocide Day (Armenia)\n",
      " April 24 - Republic Day (the Gambia)\n",
      " April 25 - Australia and New Zealand celebrate ANZAC Day. ANZAC  means Australian and New Zealand Army Corps, and began in 1915.\n",
      " April 25 - World DNA Day\n",
      " April 25 - World Malaria Day\n",
      " April 25 - Flag Day (Swaziland, Faroe Islands)\n",
      " April 25 - Freedom Day (Portugal)\n",
      " April 25 - Liberation Day (Italy)\n",
      " April 25 - Army Day (North Korea)\n",
      " April 26 - Union Day (Tanzania)\n",
      " April 26 - Confederate Memorial Day (Texas, Florida)\n",
      " April 27 - Independence Day (Sierra Leone and Togo)\n",
      " April 27 - Freedom Day (South Africa)\n",
      " April 27 - World Tapir Day\n",
      " April 27 - King's Day (Netherlands) from 2014, birthday of Willem-Alexander of the Netherlands\n",
      " April 28 - Workers Memorial Day\n",
      " April 28 - National Day (Sardinia)\n",
      " April 28 - National Heroes Day (Barbados)\n",
      " April 29 - Showa Day (Japan), birthday of Emperor Hirohito, who died in 1989\n",
      " April 29 - International Dance Day\n",
      " April 30 - Former Queen's Day Holiday in the Netherlands (changed to King's Day, April 27 in 2014), was the birthday of former Queen Juliana of the Netherlands\n",
      " April 30 - Flag Day in Sweden (birthday of King Carl XVI Gustaf of Sweden)\n",
      " April 30 - International Jazz Day\n",
      " April 30 - Walpurgis Night (Central and Northern Europe)\n",
      "\n",
      "Moveable Events \n",
      "\n",
      " Easter-related events in Western Christianity:\n",
      " Palm Sunday (between March 15 and April 18)\n",
      " Maundy Thursday (between March 19 and April 22)\n",
      " Good Friday (between March 20 and April 23)\n",
      " Easter Sunday (between March 22 and April 25)\n",
      " Easter Monday (between March 23 and April 26)\n",
      " Eastern Orthodox Easter falls between April 4 and May 8.\n",
      " Ascension Day (Western Christianity), falls between April 30 and June 3.\n",
      " Jewish Passover - falls in the same week as Western Christianity's Holy Week, which is the week leading up to Easter.\n",
      " Mother's Day (UK) falls between March 1 and April 4.\n",
      " World Snooker Championship (late April, early May)\n",
      " Horse racing - Grand National (UK), Kentucky Derby (United States)\n",
      " Start of Daylight Saving Time - Clocks going forward one hour:\n",
      " Most of Mexico\n",
      " Morocco (Ramadan does not include Daylight Saving Time)\n",
      " End of Daylight Saving Time - Clocks going back one hour:\n",
      " Southeast Australia, and New Zealand\n",
      " Chile\n",
      " Marathon Events in the following cities:\n",
      " Belgrade, Serbia\n",
      " Boston, Massachusetts, United States\n",
      " Brighton, United Kingdom\n",
      " Enschede, Netherlands\n",
      " London, United Kingdom\n",
      " Madrid, Spain\n",
      " Paris, France\n",
      " Rotterdam, Netherlands\n",
      " Utrecht, Netherlands\n",
      " Zurich, Switzerland\n",
      "\n",
      "Selection of Historical Events \n",
      "\n",
      " April 1, 1918 - The Royal Air Force is founded.\n",
      " April 1, 1976 - Apple Inc. is founded.\n",
      " April 1, 1979 - The Islamic Republic of Iran is founded.\n",
      " April 1, 1999 - The territory of Nunavut is created in Northern Canada.\n",
      " April 1, 2001 - The Netherlands introduces same-sex marriage, as the first country to do so.\n",
      " April 2, 1519 - Florida is sighted by a European for the first time.\n",
      " April 2, 1930 - Haile Selassie becomes Emperor of Ethiopia.\n",
      " April 2, 1982 - Start of the Falklands War, as Argentine forces land on the Falkland Islands.\n",
      " April 2, 2005 - Pope John Paul II dies aged 84, after 26-and-a-half years as Pope.\n",
      " April 3, 1973 - The first-ever mobile phone call is placed by Martin Cooper in New York City.\n",
      " April 4, 1721 - Robert Walpole becomes the first Prime Minister of Great Britain.\n",
      " April 4, 1841 - William Henry Harrison dies. He was President of the United States for 31 days, the shortest-ever time in office for a US President.\n",
      " April 4, 1960 - Senegal becomes independent.\n",
      " April 4, 1968 - Assassination of Martin Luther King, Jr. in Memphis, Tennessee.\n",
      " April 5, 1722 - Jacob Roggeveen becomes the first European to land on Easter Island, landing there on Easter Sunday.\n",
      " April 6, 1320 - Scotland's independence is confirmed with the Declaration of Arbroath.\n",
      " April 6, 1830 - The Mormon Church is founded.\n",
      " April 6, 1909 - Robert Peary claims to have been first at the North Pole on this date.\n",
      " April 7, 1994 - The Rwandan Genocide begins.\n",
      " April 9, 1865 - American Civil War: Confederate forces under Robert E. Lee surrender to Union forces.\n",
      " April 9, 1940 - World War II: Denmark and Norway are invaded by Nazi Germany.\n",
      " April 9, 1989 - April 9 tragedy: In Tbilisi, Georgia, a peaceful demonstration for independence is broken up by the Soviet Army, killing 20 people. The country gains independence on this date exactly two years later.\n",
      " April 10, 1815 - Mount Tambora in Indonesia erupts in a huge eruption, affecting the world's climate for at least a year.\n",
      " April 10, 2010 - A plane crash near Smolensk, Russia, kills several people who were important in Poland, including President Lech Kaczynski.\n",
      " April 11, 1814 - Napoleon Bonaparte is exiled to the island of Elba.\n",
      " April 11, 1954 - Said to have been the most boring day of the 20th century.\n",
      " April 12, 1861 - The American Civil War begins at Fort Sumter, Charleston, South Carolina.\n",
      " April 12, 1945 - US President Franklin D. Roosevelt dies, and Harry S. Truman replaces him.\n",
      " April 12, 1961 - Yuri Gagarin becomes the first human to fly into space.\n",
      " April 14, 1865 - US President Abraham Lincoln is shot dead at Ford's Theatre by John Wilkes Booth. Lincoln dies the next day.\n",
      " April 14, 2010 - Qinghai Province, China, is hit by an earthquake, killing tens of thousands of people.\n",
      " April 14, 2010 - The eruption of Eyjafjallajokull in Iceland shuts down air traffic around Europe for a week, due to its ash cloud.\n",
      " April 15, 1912 - The ship RMS Titanic sinks near Newfoundland after hitting an iceberg, resulting in the deaths of many of the people on board.\n",
      " April 16, 1943 - Albert Hofmann discovers LSD's effects.\n",
      " April 17, 1946 - Syria gains full independence from France.\n",
      " April 18, 1906 - 1906 San Francisco earthquake: San Francisco, California, is hit by a big earthquake, resulting in fires that destroy large parts of the city.\n",
      " April 18, 1980 - Zimbabwe gains full independence.\n",
      " April 19, 1897 - The first Boston Marathon is held.\n",
      " April 19, 1971 - Sierra Leone becomes a republic.\n",
      " April 19, 1993 - The siege of the Branch Davidians at Waco, Texas, ends in a fire that kills 82 people.\n",
      " April 19, 1995 - Timothy McVeigh carries out the Oklahoma City bombing, killing 169 people.\n",
      " April 19, 2005 - Joseph Alois Ratzinger becomes Pope Benedict XVI.\n",
      " April 20, 1902 - Marie Curie and Pierre Curie refine Radium.\n",
      " April 20, 2010 - Deepwater Horizon oil spill: A massive fire on the Deepwater Horizon drilling rig in the Gulf of Mexico kills 11 workers and causes a massive oil spill, the worst spill in US history.\n",
      " April 21, 753 BC - Legendary founding date of Rome\n",
      " April 21, 1509 - Henry VIII of England becomes King.\n",
      " April 21, 1908 - Frederick Cook claims to have reached the North Pole on this date.\n",
      " April 22, 1502 - Pedro Alvares Cabral becomes the first European to reach present-day Brazil.\n",
      " April 22, 1970 - Earth Day is observed for the first time.\n",
      " April 23, 1533 - The Church of England declares that Henry VIII of England and Catherine of Aragon are not married.\n",
      " April 24, 1916 - The Easter Rising occurs in Dublin, Ireland.\n",
      " April 24, 1990 - The Hubble Space Telescope is launched on the Space Shuttle Discovery.\n",
      " April 25, 1915 - World War I: In Turkey, the Battle of Gallipoli begins, Australian, French, British and New Zealand forces land at Anzac cove.\n",
      " April 25, 1974 - Portugal's dictatorship is overthrown in a coup, in what is known as the Carnation Revolution.\n",
      " April 26, 1937 - Spanish Civil War: German planes bomb the town of Guernica, Basque Country, later depicted in a painting by Pablo Picasso.\n",
      " April 26, 1964 - Tanganyika and Zanzibar merge to form Tanzania.\n",
      " April 26, 1986 - A reactor explosion occurs at the Chernobyl nuclear plant in present-day Ukraine, with radiation spreading around Europe and the world.\n",
      " April 26/27, 1994 - South Africa holds its first free elections.\n",
      " April 27, 1960 - Togo becomes independent from France.\n",
      " April 27, 1961 - Sierra Leone becomes independent from the United Kingdom.\n",
      " April 28, 1789 - Mutiny on the ship Bounty in the Pacific Ocean, lead by Fletcher Christian.\n",
      " April 28, 1945 - Benito Mussolini is executed by Italian partisans.\n",
      " April 28, 1947 - In Peru, Thor Heyerdahl starts his Kon-Tiki expedition aimed at proving his theory that the Polynesian settlers on the Pacific Ocean's islands came from South America.\n",
      " April 29, 1991 - A cyclone in Bangladesh kills an estimated 138,000 people.\n",
      " April 29, 2011 - The wedding of Prince William, Duke of Cambridge and Catherine, Duchess of Cambridge is broadcast worldwide.\n",
      " April 30, 1789 - George Washington becomes the first President of the United States.\n",
      " April 30, 1803 - The United States purchases (buys) the Louisiana territory from France.\n",
      " April 30, 1945 - Adolf Hitler commits suicide on the same day that the Soviet Army raises the Red Flag on Berlin's Reichstag.\n",
      " April 30, 1952 - The Diary of Anne Frank is published in English.\n",
      " April 30, 1975 - The Vietnam War ends, as North Vietnamese forces take Saigon.\n",
      " April 30, 1980 - Queen Juliana of the Netherlands abdicates the throne, and her daughter becomes Queen Beatrix of the Netherlands. Beatrix later also abdicates, on this day in 2013, in favor of her son, King Willem-Alexander of the Netherlands.\n",
      "\n",
      "Trivia \n",
      "\n",
      " In Western Christianity, there is a bigger likelihood of Easter falling in April than in March.\n",
      " The months around April (March and May) both start with an 'M' in the English language, with an 'A' as the second letter.\n",
      " In the English language, April is the first of three months in-a-row, along with May and June, that is also a female given name.\n",
      " The astrological signs for April are Aries (March 21 to April 20) and Taurus (April 21 to May 20).\n",
      " The sweet pea and daisy are the traditional birth flowers for April.\n",
      " Birthstone for April is the Diamond.\n",
      "April 1 is the only day in April to start within the first quarter of the calendar year.\n",
      " If the months of the year were arranged in alphabetical order in the English language, April would come first.\n",
      " Six current European monarchs were born in April. They are King Philippe of Belgium (April 15), Queen Margrethe II of Denmark (April 16), Henri, Grand Duke of Luxembourg (April 16), Elizabeth II of the United Kingdom and Commonwealth realms (April 21), King Willem-Alexander of the Netherlands (April 27), and King Carl XVI Gustaf of Sweden (April 30).\n",
      "\n",
      "References\n"
     ]
    }
   ],
   "source": [
    "normalize(text_only[:1])"
   ]
  },
  {
   "cell_type": "code",
   "execution_count": null,
   "id": "10f87348",
   "metadata": {},
   "outputs": [],
   "source": []
  },
  {
   "cell_type": "code",
   "execution_count": null,
   "id": "c4f40b13",
   "metadata": {},
   "outputs": [],
   "source": []
  },
  {
   "cell_type": "code",
   "execution_count": null,
   "id": "9ef0e86a",
   "metadata": {},
   "outputs": [],
   "source": []
  },
  {
   "cell_type": "code",
   "execution_count": null,
   "id": "7d2f64a8",
   "metadata": {},
   "outputs": [],
   "source": []
  },
  {
   "cell_type": "code",
   "execution_count": null,
   "id": "aa140933",
   "metadata": {},
   "outputs": [],
   "source": []
  },
  {
   "cell_type": "code",
   "execution_count": null,
   "id": "d1c8b7de",
   "metadata": {},
   "outputs": [],
   "source": []
  },
  {
   "cell_type": "code",
   "execution_count": null,
   "id": "f99b0a6d",
   "metadata": {},
   "outputs": [],
   "source": []
  },
  {
   "cell_type": "code",
   "execution_count": null,
   "id": "06c8cb5b",
   "metadata": {},
   "outputs": [],
   "source": []
  },
  {
   "cell_type": "code",
   "execution_count": 2,
   "id": "0066a275",
   "metadata": {},
   "outputs": [],
   "source": [
    "# data = load_dataset('csv',\"wikipedia\", data_files={\"20220301.simple\"},beam_runner='DirectRunner')"
   ]
  },
  {
   "cell_type": "code",
   "execution_count": 1,
   "id": "2729a9b4",
   "metadata": {},
   "outputs": [],
   "source": [
    "# from datasets import load_dataset\n",
    "\n",
    "\n",
    "\n",
    "# data = load_dataset(\"wikipedia\",language=\"en\", data_files= \"20220301.simple\",beam_runner= \"DirectRunner\")\n",
    "\n"
   ]
  },
  {
   "cell_type": "code",
   "execution_count": 3,
   "id": "02232353",
   "metadata": {},
   "outputs": [],
   "source": [
    "# data[\"train\"][0]"
   ]
  },
  {
   "cell_type": "code",
   "execution_count": 4,
   "id": "2fa7b951",
   "metadata": {},
   "outputs": [],
   "source": [
    "# type(data)"
   ]
  },
  {
   "cell_type": "code",
   "execution_count": 5,
   "id": "e194b09c",
   "metadata": {},
   "outputs": [],
   "source": [
    "# import pandas as pd\n",
    "\n",
    "# import pyarrow as pa\n"
   ]
  },
  {
   "cell_type": "code",
   "execution_count": 6,
   "id": "fee856f5",
   "metadata": {},
   "outputs": [],
   "source": [
    "# !pip install pyarrow "
   ]
  },
  {
   "cell_type": "code",
   "execution_count": 7,
   "id": "6a149576",
   "metadata": {},
   "outputs": [],
   "source": [
    "# df_new = data.to_pandas()"
   ]
  },
  {
   "cell_type": "code",
   "execution_count": null,
   "id": "ed645330",
   "metadata": {},
   "outputs": [],
   "source": []
  },
  {
   "cell_type": "code",
   "execution_count": 8,
   "id": "ae78e32b",
   "metadata": {},
   "outputs": [],
   "source": [
    "# data[\"train\"].save_to_disk(\"data1.csv\")\n",
    "# # data.to_csv()"
   ]
  }
 ],
 "metadata": {
  "kernelspec": {
   "display_name": "Python 3 (ipykernel)",
   "language": "python",
   "name": "python3"
  },
  "language_info": {
   "codemirror_mode": {
    "name": "ipython",
    "version": 3
   },
   "file_extension": ".py",
   "mimetype": "text/x-python",
   "name": "python",
   "nbconvert_exporter": "python",
   "pygments_lexer": "ipython3",
   "version": "3.9.16"
  }
 },
 "nbformat": 4,
 "nbformat_minor": 5
}
